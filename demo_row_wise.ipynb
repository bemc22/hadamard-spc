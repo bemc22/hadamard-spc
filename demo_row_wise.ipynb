{
 "cells": [
  {
   "cell_type": "code",
   "execution_count": 126,
   "metadata": {},
   "outputs": [
    {
     "name": "stdout",
     "output_type": "stream",
     "text": [
      "Ordering mode:  zig_zag\n"
     ]
    },
    {
     "data": {
      "image/png": "[encoded data removed]",
      "text/plain": [
       "<Figure size 640x480 with 2 Axes>"
      ]
     },
     "metadata": {},
     "output_type": "display_data"
    }
   ],
   "source": [
    "import matplotlib.pyplot as plt\n",
    "import numpy as np\n",
    "\n",
    "from libs.ordering import get_index_matrix\n",
    "from libs.ordering.sequency import sequency_order\n",
    "from libs.row_wise import hadamard_row\n",
    "\n",
    "n = 6\n",
    "ordering = \"cake_cutting\"\n",
    "\n",
    "size = np.sqrt(2**n).astype(int)\n",
    "index_matrix = size*size - get_index_matrix(size, ordering)\n",
    "\n",
    "\n",
    "ordering_list = sequency_order(2**n)\n",
    "\n",
    "order_temp = index_matrix.copy()\n",
    "order_temp[:, 1::2] = order_temp[::-1, 1::2]\n",
    "order_temp = index_matrix.reshape(-1, order=\"F\")\n",
    "order_temp = np.argsort(order_temp)\n",
    "ordering_list = [ordering_list[i] for i in order_temp]\n",
    "\n",
    "H = []\n",
    "\n",
    "\n",
    "for i in range(2**n):\n",
    "    index = ordering_list[i]\n",
    "    H.append(hadamard_row(index, n))\n",
    "\n",
    "\n",
    "H = np.array(H).squeeze()\n",
    "\n",
    "fig, axs = plt.subplots(1, 2)\n",
    "\n",
    "print(\"Ordering mode: \", ordering)\n",
    "\n",
    "plt.subplot(1, 2, 1)\n",
    "plt.imshow(H, cmap='gray')\n",
    "plt.xticks([])\n",
    "plt.yticks([])\n",
    "\n",
    "plt.title(\"Hadamard matrix\")\n",
    "\n",
    "plt.subplot(1, 2, 2)\n",
    "plt.imshow(index_matrix, cmap='jet')\n",
    "plt.xticks([])\n",
    "plt.yticks([])\n",
    "plt.title(\"Index matrix\")\n",
    "plt.show()"
   ]
  }
 ],
 "metadata": {
  "kernelspec": {
   "display_name": "bemc",
   "language": "python",
   "name": "python3"
  },
  "language_info": {
   "codemirror_mode": {
    "name": "ipython",
    "version": 3
   },
   "file_extension": ".py",
   "mimetype": "text/x-python",
   "name": "python",
   "nbconvert_exporter": "python",
   "pygments_lexer": "ipython3",
   "version": "3.12.4"
  }
 },
 "nbformat": 4,
 "nbformat_minor": 2
}
